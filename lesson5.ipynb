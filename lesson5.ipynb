{
  "nbformat": 4,
  "nbformat_minor": 0,
  "metadata": {
    "colab": {
      "name": "lesson5.ipynb",
      "provenance": [],
      "authorship_tag": "ABX9TyO5v6BnwMKKv3jJK8oP36T6",
      "include_colab_link": true
    },
    "kernelspec": {
      "name": "python3",
      "display_name": "Python 3"
    },
    "language_info": {
      "name": "python"
    }
  },
  "cells": [
    {
      "cell_type": "markdown",
      "metadata": {
        "id": "view-in-github",
        "colab_type": "text"
      },
      "source": [
        "<a href=\"https://colab.research.google.com/github/bkvkrll/Introduction-to-Neural-Networks/blob/main/lesson5.ipynb\" target=\"_parent\"><img src=\"https://colab.research.google.com/assets/colab-badge.svg\" alt=\"Open In Colab\"/></a>"
      ]
    },
    {
      "cell_type": "markdown",
      "source": [
        "Практическое задание\n",
        "\n",
        "Попробуйте обучить нейронную сеть LSTM на любом другом датасете (любимый временной ряд, текст на русском (другом языке) как генератор или классификатор, или прилагаемый набор airline-passengers - пасажиропоток для авиалиний). Опишите, какой результата вы получили? Что помогло вам улучшить ее точность?\n",
        "\n",
        "*Попробуйте на numpy реализовать нейронную сеть архитектуры LSTM\n",
        "\n",
        "*Предложите свои варианты решения проблемы исчезающего градиента в RNN"
      ],
      "metadata": {
        "id": "4T_ar5MH6fF4"
      }
    },
    {
      "cell_type": "code",
      "execution_count": 300,
      "metadata": {
        "colab": {
          "base_uri": "https://localhost:8080/"
        },
        "id": "Bkr0Nc6R5-Tl",
        "outputId": "0d0c1fbf-87d0-448c-da04-fd095d316e09"
      },
      "outputs": [
        {
          "output_type": "stream",
          "name": "stdout",
          "text": [
            "Looking in indexes: https://pypi.org/simple, https://us-python.pkg.dev/colab-wheels/public/simple/\n",
            "Requirement already satisfied: pip in /usr/local/lib/python3.7/dist-packages (22.1.2)\n",
            "\u001b[33mWARNING: Running pip as the 'root' user can result in broken permissions and conflicting behaviour with the system package manager. It is recommended to use a virtual environment instead: https://pip.pypa.io/warnings/venv\u001b[0m\u001b[33m\n",
            "\u001b[0m"
          ]
        }
      ],
      "source": [
        "!pip install --upgrade pip"
      ]
    },
    {
      "cell_type": "code",
      "source": [
        "!pip install tensorflow -latest"
      ],
      "metadata": {
        "colab": {
          "base_uri": "https://localhost:8080/"
        },
        "id": "GNg69VFW7IfS",
        "outputId": "0ceb8d56-d771-4f29-e4a0-af2a790d8caa"
      },
      "execution_count": 301,
      "outputs": [
        {
          "output_type": "stream",
          "name": "stdout",
          "text": [
            "\n",
            "Usage:   \n",
            "  pip install [options] <requirement specifier> [package-index-options] ...\n",
            "  pip install [options] -r <requirements file> [package-index-options] ...\n",
            "  pip install [options] [-e] <vcs project url> ...\n",
            "  pip install [options] [-e] <local project path> ...\n",
            "  pip install [options] <archive url/path> ...\n",
            "\n",
            "no such option: -l\n"
          ]
        }
      ]
    },
    {
      "cell_type": "code",
      "source": [
        "!pip install --upgrade tensorflow"
      ],
      "metadata": {
        "colab": {
          "base_uri": "https://localhost:8080/"
        },
        "id": "zyaBJ95t7KXs",
        "outputId": "c3a64253-aaaa-49e3-88ae-4bee90625cb7"
      },
      "execution_count": 302,
      "outputs": [
        {
          "output_type": "stream",
          "name": "stdout",
          "text": [
            "Looking in indexes: https://pypi.org/simple, https://us-python.pkg.dev/colab-wheels/public/simple/\n",
            "Requirement already satisfied: tensorflow in /usr/local/lib/python3.7/dist-packages (2.9.1)\n",
            "Requirement already satisfied: setuptools in /usr/local/lib/python3.7/dist-packages (from tensorflow) (57.4.0)\n",
            "Requirement already satisfied: wrapt>=1.11.0 in /usr/local/lib/python3.7/dist-packages (from tensorflow) (1.14.1)\n",
            "Requirement already satisfied: tensorboard<2.10,>=2.9 in /usr/local/lib/python3.7/dist-packages (from tensorflow) (2.9.0)\n",
            "Requirement already satisfied: gast<=0.4.0,>=0.2.1 in /usr/local/lib/python3.7/dist-packages (from tensorflow) (0.4.0)\n",
            "Requirement already satisfied: opt-einsum>=2.3.2 in /usr/local/lib/python3.7/dist-packages (from tensorflow) (3.3.0)\n",
            "Requirement already satisfied: packaging in /usr/local/lib/python3.7/dist-packages (from tensorflow) (21.3)\n",
            "Requirement already satisfied: astunparse>=1.6.0 in /usr/local/lib/python3.7/dist-packages (from tensorflow) (1.6.3)\n",
            "Requirement already satisfied: h5py>=2.9.0 in /usr/local/lib/python3.7/dist-packages (from tensorflow) (3.1.0)\n",
            "Requirement already satisfied: keras-preprocessing>=1.1.1 in /usr/local/lib/python3.7/dist-packages (from tensorflow) (1.1.2)\n",
            "Requirement already satisfied: tensorflow-io-gcs-filesystem>=0.23.1 in /usr/local/lib/python3.7/dist-packages (from tensorflow) (0.26.0)\n",
            "Requirement already satisfied: tensorflow-estimator<2.10.0,>=2.9.0rc0 in /usr/local/lib/python3.7/dist-packages (from tensorflow) (2.9.0)\n",
            "Requirement already satisfied: protobuf<3.20,>=3.9.2 in /usr/local/lib/python3.7/dist-packages (from tensorflow) (3.17.3)\n",
            "Requirement already satisfied: google-pasta>=0.1.1 in /usr/local/lib/python3.7/dist-packages (from tensorflow) (0.2.0)\n",
            "Requirement already satisfied: grpcio<2.0,>=1.24.3 in /usr/local/lib/python3.7/dist-packages (from tensorflow) (1.46.3)\n",
            "Requirement already satisfied: absl-py>=1.0.0 in /usr/local/lib/python3.7/dist-packages (from tensorflow) (1.0.0)\n",
            "Requirement already satisfied: typing-extensions>=3.6.6 in /usr/local/lib/python3.7/dist-packages (from tensorflow) (4.2.0)\n",
            "Requirement already satisfied: termcolor>=1.1.0 in /usr/local/lib/python3.7/dist-packages (from tensorflow) (1.1.0)\n",
            "Requirement already satisfied: libclang>=13.0.0 in /usr/local/lib/python3.7/dist-packages (from tensorflow) (14.0.1)\n",
            "Requirement already satisfied: keras<2.10.0,>=2.9.0rc0 in /usr/local/lib/python3.7/dist-packages (from tensorflow) (2.9.0)\n",
            "Requirement already satisfied: numpy>=1.20 in /usr/local/lib/python3.7/dist-packages (from tensorflow) (1.21.6)\n",
            "Requirement already satisfied: six>=1.12.0 in /usr/local/lib/python3.7/dist-packages (from tensorflow) (1.15.0)\n",
            "Requirement already satisfied: flatbuffers<2,>=1.12 in /usr/local/lib/python3.7/dist-packages (from tensorflow) (1.12)\n",
            "Requirement already satisfied: wheel<1.0,>=0.23.0 in /usr/local/lib/python3.7/dist-packages (from astunparse>=1.6.0->tensorflow) (0.37.1)\n",
            "Requirement already satisfied: cached-property in /usr/local/lib/python3.7/dist-packages (from h5py>=2.9.0->tensorflow) (1.5.2)\n",
            "Requirement already satisfied: requests<3,>=2.21.0 in /usr/local/lib/python3.7/dist-packages (from tensorboard<2.10,>=2.9->tensorflow) (2.23.0)\n",
            "Requirement already satisfied: google-auth<3,>=1.6.3 in /usr/local/lib/python3.7/dist-packages (from tensorboard<2.10,>=2.9->tensorflow) (1.35.0)\n",
            "Requirement already satisfied: tensorboard-plugin-wit>=1.6.0 in /usr/local/lib/python3.7/dist-packages (from tensorboard<2.10,>=2.9->tensorflow) (1.8.1)\n",
            "Requirement already satisfied: tensorboard-data-server<0.7.0,>=0.6.0 in /usr/local/lib/python3.7/dist-packages (from tensorboard<2.10,>=2.9->tensorflow) (0.6.1)\n",
            "Requirement already satisfied: google-auth-oauthlib<0.5,>=0.4.1 in /usr/local/lib/python3.7/dist-packages (from tensorboard<2.10,>=2.9->tensorflow) (0.4.6)\n",
            "Requirement already satisfied: markdown>=2.6.8 in /usr/local/lib/python3.7/dist-packages (from tensorboard<2.10,>=2.9->tensorflow) (3.3.7)\n",
            "Requirement already satisfied: werkzeug>=1.0.1 in /usr/local/lib/python3.7/dist-packages (from tensorboard<2.10,>=2.9->tensorflow) (1.0.1)\n",
            "Requirement already satisfied: pyparsing!=3.0.5,>=2.0.2 in /usr/local/lib/python3.7/dist-packages (from packaging->tensorflow) (3.0.9)\n",
            "Requirement already satisfied: pyasn1-modules>=0.2.1 in /usr/local/lib/python3.7/dist-packages (from google-auth<3,>=1.6.3->tensorboard<2.10,>=2.9->tensorflow) (0.2.8)\n",
            "Requirement already satisfied: rsa<5,>=3.1.4 in /usr/local/lib/python3.7/dist-packages (from google-auth<3,>=1.6.3->tensorboard<2.10,>=2.9->tensorflow) (4.8)\n",
            "Requirement already satisfied: cachetools<5.0,>=2.0.0 in /usr/local/lib/python3.7/dist-packages (from google-auth<3,>=1.6.3->tensorboard<2.10,>=2.9->tensorflow) (4.2.4)\n",
            "Requirement already satisfied: requests-oauthlib>=0.7.0 in /usr/local/lib/python3.7/dist-packages (from google-auth-oauthlib<0.5,>=0.4.1->tensorboard<2.10,>=2.9->tensorflow) (1.3.1)\n",
            "Requirement already satisfied: importlib-metadata>=4.4 in /usr/local/lib/python3.7/dist-packages (from markdown>=2.6.8->tensorboard<2.10,>=2.9->tensorflow) (4.11.4)\n",
            "Requirement already satisfied: idna<3,>=2.5 in /usr/local/lib/python3.7/dist-packages (from requests<3,>=2.21.0->tensorboard<2.10,>=2.9->tensorflow) (2.10)\n",
            "Requirement already satisfied: urllib3!=1.25.0,!=1.25.1,<1.26,>=1.21.1 in /usr/local/lib/python3.7/dist-packages (from requests<3,>=2.21.0->tensorboard<2.10,>=2.9->tensorflow) (1.24.3)\n",
            "Requirement already satisfied: chardet<4,>=3.0.2 in /usr/local/lib/python3.7/dist-packages (from requests<3,>=2.21.0->tensorboard<2.10,>=2.9->tensorflow) (3.0.4)\n",
            "Requirement already satisfied: certifi>=2017.4.17 in /usr/local/lib/python3.7/dist-packages (from requests<3,>=2.21.0->tensorboard<2.10,>=2.9->tensorflow) (2022.5.18.1)\n",
            "Requirement already satisfied: zipp>=0.5 in /usr/local/lib/python3.7/dist-packages (from importlib-metadata>=4.4->markdown>=2.6.8->tensorboard<2.10,>=2.9->tensorflow) (3.8.0)\n",
            "Requirement already satisfied: pyasn1<0.5.0,>=0.4.6 in /usr/local/lib/python3.7/dist-packages (from pyasn1-modules>=0.2.1->google-auth<3,>=1.6.3->tensorboard<2.10,>=2.9->tensorflow) (0.4.8)\n",
            "Requirement already satisfied: oauthlib>=3.0.0 in /usr/local/lib/python3.7/dist-packages (from requests-oauthlib>=0.7.0->google-auth-oauthlib<0.5,>=0.4.1->tensorboard<2.10,>=2.9->tensorflow) (3.2.0)\n",
            "\u001b[33mWARNING: Running pip as the 'root' user can result in broken permissions and conflicting behaviour with the system package manager. It is recommended to use a virtual environment instead: https://pip.pypa.io/warnings/venv\u001b[0m\u001b[33m\n",
            "\u001b[0m"
          ]
        }
      ]
    },
    {
      "cell_type": "code",
      "source": [
        "!pip install tensorflow_datasets"
      ],
      "metadata": {
        "colab": {
          "base_uri": "https://localhost:8080/"
        },
        "id": "r3XdLbC87MBS",
        "outputId": "349a87b3-2454-4d45-b9b3-5462e9b951cd"
      },
      "execution_count": 303,
      "outputs": [
        {
          "output_type": "stream",
          "name": "stdout",
          "text": [
            "Looking in indexes: https://pypi.org/simple, https://us-python.pkg.dev/colab-wheels/public/simple/\n",
            "Requirement already satisfied: tensorflow_datasets in /usr/local/lib/python3.7/dist-packages (4.0.1)\n",
            "Requirement already satisfied: protobuf>=3.6.1 in /usr/local/lib/python3.7/dist-packages (from tensorflow_datasets) (3.17.3)\n",
            "Requirement already satisfied: tensorflow-metadata in /usr/local/lib/python3.7/dist-packages (from tensorflow_datasets) (1.8.0)\n",
            "Requirement already satisfied: future in /usr/local/lib/python3.7/dist-packages (from tensorflow_datasets) (0.16.0)\n",
            "Requirement already satisfied: dill in /usr/local/lib/python3.7/dist-packages (from tensorflow_datasets) (0.3.5.1)\n",
            "Requirement already satisfied: termcolor in /usr/local/lib/python3.7/dist-packages (from tensorflow_datasets) (1.1.0)\n",
            "Requirement already satisfied: absl-py in /usr/local/lib/python3.7/dist-packages (from tensorflow_datasets) (1.0.0)\n",
            "Requirement already satisfied: dm-tree in /usr/local/lib/python3.7/dist-packages (from tensorflow_datasets) (0.1.7)\n",
            "Requirement already satisfied: promise in /usr/local/lib/python3.7/dist-packages (from tensorflow_datasets) (2.3)\n",
            "Requirement already satisfied: attrs>=18.1.0 in /usr/local/lib/python3.7/dist-packages (from tensorflow_datasets) (21.4.0)\n",
            "Requirement already satisfied: requests>=2.19.0 in /usr/local/lib/python3.7/dist-packages (from tensorflow_datasets) (2.23.0)\n",
            "Requirement already satisfied: tqdm in /usr/local/lib/python3.7/dist-packages (from tensorflow_datasets) (4.64.0)\n",
            "Requirement already satisfied: numpy in /usr/local/lib/python3.7/dist-packages (from tensorflow_datasets) (1.21.6)\n",
            "Requirement already satisfied: importlib-resources in /usr/local/lib/python3.7/dist-packages (from tensorflow_datasets) (5.7.1)\n",
            "Requirement already satisfied: six in /usr/local/lib/python3.7/dist-packages (from tensorflow_datasets) (1.15.0)\n",
            "Requirement already satisfied: chardet<4,>=3.0.2 in /usr/local/lib/python3.7/dist-packages (from requests>=2.19.0->tensorflow_datasets) (3.0.4)\n",
            "Requirement already satisfied: certifi>=2017.4.17 in /usr/local/lib/python3.7/dist-packages (from requests>=2.19.0->tensorflow_datasets) (2022.5.18.1)\n",
            "Requirement already satisfied: idna<3,>=2.5 in /usr/local/lib/python3.7/dist-packages (from requests>=2.19.0->tensorflow_datasets) (2.10)\n",
            "Requirement already satisfied: urllib3!=1.25.0,!=1.25.1,<1.26,>=1.21.1 in /usr/local/lib/python3.7/dist-packages (from requests>=2.19.0->tensorflow_datasets) (1.24.3)\n",
            "Requirement already satisfied: zipp>=3.1.0 in /usr/local/lib/python3.7/dist-packages (from importlib-resources->tensorflow_datasets) (3.8.0)\n",
            "Requirement already satisfied: googleapis-common-protos<2,>=1.52.0 in /usr/local/lib/python3.7/dist-packages (from tensorflow-metadata->tensorflow_datasets) (1.56.2)\n",
            "\u001b[33mWARNING: Running pip as the 'root' user can result in broken permissions and conflicting behaviour with the system package manager. It is recommended to use a virtual environment instead: https://pip.pypa.io/warnings/venv\u001b[0m\u001b[33m\n",
            "\u001b[0m"
          ]
        }
      ]
    },
    {
      "cell_type": "code",
      "source": [
        "import numpy as np\n",
        "import pandas as pd\n",
        "import tensorflow as tf\n",
        "\n",
        "import matplotlib.pyplot as plt\n",
        "\n",
        "from tensorflow.keras.models import Sequential\n",
        "from tensorflow.keras.layers import Dense, LSTM\n",
        "from sklearn.preprocessing import MinMaxScaler\n",
        "from keras.callbacks import EarlyStopping\n",
        "from keras.layers import Conv1D, Flatten"
      ],
      "metadata": {
        "id": "ytly5MDt7RMV"
      },
      "execution_count": 304,
      "outputs": []
    },
    {
      "cell_type": "code",
      "source": [
        "passengers_data = pd.read_csv(\"airline-passengers.csv\")\n",
        "passengers_data.head()"
      ],
      "metadata": {
        "colab": {
          "base_uri": "https://localhost:8080/",
          "height": 206
        },
        "id": "u8aPtAcr7TqS",
        "outputId": "f6b178df-8c9e-40d3-d245-9e54f8fc72d3"
      },
      "execution_count": 305,
      "outputs": [
        {
          "output_type": "execute_result",
          "data": {
            "text/plain": [
              "     Month  Passengers\n",
              "0  1949-01         112\n",
              "1  1949-02         118\n",
              "2  1949-03         132\n",
              "3  1949-04         129\n",
              "4  1949-05         121"
            ],
            "text/html": [
              "\n",
              "  <div id=\"df-8204909a-77f0-409b-8303-ab95d9861efb\">\n",
              "    <div class=\"colab-df-container\">\n",
              "      <div>\n",
              "<style scoped>\n",
              "    .dataframe tbody tr th:only-of-type {\n",
              "        vertical-align: middle;\n",
              "    }\n",
              "\n",
              "    .dataframe tbody tr th {\n",
              "        vertical-align: top;\n",
              "    }\n",
              "\n",
              "    .dataframe thead th {\n",
              "        text-align: right;\n",
              "    }\n",
              "</style>\n",
              "<table border=\"1\" class=\"dataframe\">\n",
              "  <thead>\n",
              "    <tr style=\"text-align: right;\">\n",
              "      <th></th>\n",
              "      <th>Month</th>\n",
              "      <th>Passengers</th>\n",
              "    </tr>\n",
              "  </thead>\n",
              "  <tbody>\n",
              "    <tr>\n",
              "      <th>0</th>\n",
              "      <td>1949-01</td>\n",
              "      <td>112</td>\n",
              "    </tr>\n",
              "    <tr>\n",
              "      <th>1</th>\n",
              "      <td>1949-02</td>\n",
              "      <td>118</td>\n",
              "    </tr>\n",
              "    <tr>\n",
              "      <th>2</th>\n",
              "      <td>1949-03</td>\n",
              "      <td>132</td>\n",
              "    </tr>\n",
              "    <tr>\n",
              "      <th>3</th>\n",
              "      <td>1949-04</td>\n",
              "      <td>129</td>\n",
              "    </tr>\n",
              "    <tr>\n",
              "      <th>4</th>\n",
              "      <td>1949-05</td>\n",
              "      <td>121</td>\n",
              "    </tr>\n",
              "  </tbody>\n",
              "</table>\n",
              "</div>\n",
              "      <button class=\"colab-df-convert\" onclick=\"convertToInteractive('df-8204909a-77f0-409b-8303-ab95d9861efb')\"\n",
              "              title=\"Convert this dataframe to an interactive table.\"\n",
              "              style=\"display:none;\">\n",
              "        \n",
              "  <svg xmlns=\"http://www.w3.org/2000/svg\" height=\"24px\"viewBox=\"0 0 24 24\"\n",
              "       width=\"24px\">\n",
              "    <path d=\"M0 0h24v24H0V0z\" fill=\"none\"/>\n",
              "    <path d=\"M18.56 5.44l.94 2.06.94-2.06 2.06-.94-2.06-.94-.94-2.06-.94 2.06-2.06.94zm-11 1L8.5 8.5l.94-2.06 2.06-.94-2.06-.94L8.5 2.5l-.94 2.06-2.06.94zm10 10l.94 2.06.94-2.06 2.06-.94-2.06-.94-.94-2.06-.94 2.06-2.06.94z\"/><path d=\"M17.41 7.96l-1.37-1.37c-.4-.4-.92-.59-1.43-.59-.52 0-1.04.2-1.43.59L10.3 9.45l-7.72 7.72c-.78.78-.78 2.05 0 2.83L4 21.41c.39.39.9.59 1.41.59.51 0 1.02-.2 1.41-.59l7.78-7.78 2.81-2.81c.8-.78.8-2.07 0-2.86zM5.41 20L4 18.59l7.72-7.72 1.47 1.35L5.41 20z\"/>\n",
              "  </svg>\n",
              "      </button>\n",
              "      \n",
              "  <style>\n",
              "    .colab-df-container {\n",
              "      display:flex;\n",
              "      flex-wrap:wrap;\n",
              "      gap: 12px;\n",
              "    }\n",
              "\n",
              "    .colab-df-convert {\n",
              "      background-color: #E8F0FE;\n",
              "      border: none;\n",
              "      border-radius: 50%;\n",
              "      cursor: pointer;\n",
              "      display: none;\n",
              "      fill: #1967D2;\n",
              "      height: 32px;\n",
              "      padding: 0 0 0 0;\n",
              "      width: 32px;\n",
              "    }\n",
              "\n",
              "    .colab-df-convert:hover {\n",
              "      background-color: #E2EBFA;\n",
              "      box-shadow: 0px 1px 2px rgba(60, 64, 67, 0.3), 0px 1px 3px 1px rgba(60, 64, 67, 0.15);\n",
              "      fill: #174EA6;\n",
              "    }\n",
              "\n",
              "    [theme=dark] .colab-df-convert {\n",
              "      background-color: #3B4455;\n",
              "      fill: #D2E3FC;\n",
              "    }\n",
              "\n",
              "    [theme=dark] .colab-df-convert:hover {\n",
              "      background-color: #434B5C;\n",
              "      box-shadow: 0px 1px 3px 1px rgba(0, 0, 0, 0.15);\n",
              "      filter: drop-shadow(0px 1px 2px rgba(0, 0, 0, 0.3));\n",
              "      fill: #FFFFFF;\n",
              "    }\n",
              "  </style>\n",
              "\n",
              "      <script>\n",
              "        const buttonEl =\n",
              "          document.querySelector('#df-8204909a-77f0-409b-8303-ab95d9861efb button.colab-df-convert');\n",
              "        buttonEl.style.display =\n",
              "          google.colab.kernel.accessAllowed ? 'block' : 'none';\n",
              "\n",
              "        async function convertToInteractive(key) {\n",
              "          const element = document.querySelector('#df-8204909a-77f0-409b-8303-ab95d9861efb');\n",
              "          const dataTable =\n",
              "            await google.colab.kernel.invokeFunction('convertToInteractive',\n",
              "                                                     [key], {});\n",
              "          if (!dataTable) return;\n",
              "\n",
              "          const docLinkHtml = 'Like what you see? Visit the ' +\n",
              "            '<a target=\"_blank\" href=https://colab.research.google.com/notebooks/data_table.ipynb>data table notebook</a>'\n",
              "            + ' to learn more about interactive tables.';\n",
              "          element.innerHTML = '';\n",
              "          dataTable['output_type'] = 'display_data';\n",
              "          await google.colab.output.renderOutput(dataTable, element);\n",
              "          const docLink = document.createElement('div');\n",
              "          docLink.innerHTML = docLinkHtml;\n",
              "          element.appendChild(docLink);\n",
              "        }\n",
              "      </script>\n",
              "    </div>\n",
              "  </div>\n",
              "  "
            ]
          },
          "metadata": {},
          "execution_count": 305
        }
      ]
    },
    {
      "cell_type": "code",
      "source": [
        "plt.plot(passengers_data['Passengers'])"
      ],
      "metadata": {
        "colab": {
          "base_uri": "https://localhost:8080/",
          "height": 283
        },
        "id": "ukWHADDA75Ly",
        "outputId": "0c5676ac-19a3-4ae7-d66c-451b236c9690"
      },
      "execution_count": 306,
      "outputs": [
        {
          "output_type": "execute_result",
          "data": {
            "text/plain": [
              "[<matplotlib.lines.Line2D at 0x7f1f6d536f50>]"
            ]
          },
          "metadata": {},
          "execution_count": 306
        },
        {
          "output_type": "display_data",
          "data": {
            "text/plain": [
              "<Figure size 432x288 with 1 Axes>"
            ],
            "image/png": "[encoded data removed]"
          },
          "metadata": {
            "needs_background": "light"
          }
        }
      ]
    },
    {
      "cell_type": "code",
      "source": [
        "data = passengers_data['Passengers']\n",
        "data = np.array(data).reshape(-1,1)\n",
        "data[:10]"
      ],
      "metadata": {
        "colab": {
          "base_uri": "https://localhost:8080/"
        },
        "id": "dY3HJJf18DlC",
        "outputId": "0c48a44e-51fb-4889-fb2c-8b0821fc9b1d"
      },
      "execution_count": 307,
      "outputs": [
        {
          "output_type": "execute_result",
          "data": {
            "text/plain": [
              "array([[112],\n",
              "       [118],\n",
              "       [132],\n",
              "       [129],\n",
              "       [121],\n",
              "       [135],\n",
              "       [148],\n",
              "       [148],\n",
              "       [136],\n",
              "       [119]])"
            ]
          },
          "metadata": {},
          "execution_count": 307
        }
      ]
    },
    {
      "cell_type": "code",
      "source": [
        "scaler = MinMaxScaler()\n",
        "data = scaler.fit_transform(data)\n",
        "data.min(),data.max()"
      ],
      "metadata": {
        "colab": {
          "base_uri": "https://localhost:8080/"
        },
        "id": "ADOh7bjU8HBP",
        "outputId": "673534ae-a962-4a6f-a1b2-15c772ad7075"
      },
      "execution_count": 308,
      "outputs": [
        {
          "output_type": "execute_result",
          "data": {
            "text/plain": [
              "(0.0, 1.0)"
            ]
          },
          "metadata": {},
          "execution_count": 308
        }
      ]
    },
    {
      "cell_type": "code",
      "source": [
        "train_size = 100\n",
        "test_size = 44\n",
        "train = data[0:train_size, :]\n",
        "train.shape"
      ],
      "metadata": {
        "colab": {
          "base_uri": "https://localhost:8080/"
        },
        "id": "pCYh0iuL8LKR",
        "outputId": "559b70a4-766b-4421-dc4c-f024edb55d42"
      },
      "execution_count": 309,
      "outputs": [
        {
          "output_type": "execute_result",
          "data": {
            "text/plain": [
              "(100, 1)"
            ]
          },
          "metadata": {},
          "execution_count": 309
        }
      ]
    },
    {
      "cell_type": "code",
      "source": [
        "test = data[train_size:144, :]\n",
        "test.shape"
      ],
      "metadata": {
        "colab": {
          "base_uri": "https://localhost:8080/"
        },
        "id": "ygfKvF8b8Q7w",
        "outputId": "e52aa842-ab9d-438f-dbcb-450c26e6967b"
      },
      "execution_count": 310,
      "outputs": [
        {
          "output_type": "execute_result",
          "data": {
            "text/plain": [
              "(44, 1)"
            ]
          },
          "metadata": {},
          "execution_count": 310
        }
      ]
    },
    {
      "cell_type": "code",
      "source": [
        "def get_data(data, look_back=10):\n",
        "    dataX, dataY = [], []\n",
        "    for i in range(len(data)-look_back-1):\n",
        "        a = data[i:(i+look_back), 0]\n",
        "        dataX.append(a)\n",
        "        dataY.append(data[i+look_back, 0])\n",
        "    return np.array(dataX), np.array(dataY)"
      ],
      "metadata": {
        "id": "jdtfh7EH8TDU"
      },
      "execution_count": 311,
      "outputs": []
    },
    {
      "cell_type": "code",
      "source": [
        "X_train, y_train = get_data(test, look_back=10)\n",
        "X_test, y_test = get_data(test, look_back=10)"
      ],
      "metadata": {
        "id": "RIile3VX8Ytr"
      },
      "execution_count": 312,
      "outputs": []
    },
    {
      "cell_type": "code",
      "source": [
        "X_train = X_train.reshape(X_train.shape[0], X_train.shape[1], 1)\n",
        "X_test = X_test.reshape(X_test.shape[0], X_test.shape[1], 1)"
      ],
      "metadata": {
        "id": "HUp-G7zM8at4"
      },
      "execution_count": 313,
      "outputs": []
    },
    {
      "cell_type": "code",
      "source": [
        "X_train.shape"
      ],
      "metadata": {
        "colab": {
          "base_uri": "https://localhost:8080/"
        },
        "id": "5rewfBy48cc4",
        "outputId": "fc4e90ad-f702-4476-979b-64e7e40de251"
      },
      "execution_count": 314,
      "outputs": [
        {
          "output_type": "execute_result",
          "data": {
            "text/plain": [
              "(33, 10, 1)"
            ]
          },
          "metadata": {},
          "execution_count": 314
        }
      ]
    },
    {
      "cell_type": "code",
      "source": [
        "X_test.shape"
      ],
      "metadata": {
        "colab": {
          "base_uri": "https://localhost:8080/"
        },
        "id": "87GH_0ta8eBf",
        "outputId": "77cfde0c-43d3-4345-f607-bc89ff278014"
      },
      "execution_count": 315,
      "outputs": [
        {
          "output_type": "execute_result",
          "data": {
            "text/plain": [
              "(33, 10, 1)"
            ]
          },
          "metadata": {},
          "execution_count": 315
        }
      ]
    },
    {
      "cell_type": "markdown",
      "source": [
        "**Обучаем LSTMс различными параметрами**"
      ],
      "metadata": {
        "id": "L-rRBttM9eg9"
      }
    },
    {
      "cell_type": "code",
      "source": [
        "look_back = 10\n",
        "model = Sequential()\n",
        "\n",
        "model.add(LSTM(64,return_sequences=False,input_shape=( look_back,1)))\n",
        "\n",
        "model.add(Dense(1))\n",
        "\n",
        "model.compile(loss=\"mse\", optimizer=\"adam\", metrics=['accuracy'])\n"
      ],
      "metadata": {
        "id": "4khcR0gx_Oda"
      },
      "execution_count": 316,
      "outputs": []
    },
    {
      "cell_type": "code",
      "source": [
        "model.summary()"
      ],
      "metadata": {
        "colab": {
          "base_uri": "https://localhost:8080/"
        },
        "id": "jXneyZjBDz6O",
        "outputId": "20085502-a04b-4def-dd0a-d29fe6997a7d"
      },
      "execution_count": 317,
      "outputs": [
        {
          "output_type": "stream",
          "name": "stdout",
          "text": [
            "Model: \"sequential_33\"\n",
            "_________________________________________________________________\n",
            " Layer (type)                Output Shape              Param #   \n",
            "=================================================================\n",
            " lstm_43 (LSTM)              (None, 64)                16896     \n",
            "                                                                 \n",
            " dense_28 (Dense)            (None, 1)                 65        \n",
            "                                                                 \n",
            "=================================================================\n",
            "Total params: 16,961\n",
            "Trainable params: 16,961\n",
            "Non-trainable params: 0\n",
            "_________________________________________________________________\n"
          ]
        }
      ]
    },
    {
      "cell_type": "code",
      "source": [
        "model.fit(X_train, y_train, epochs=25, batch_size=1)"
      ],
      "metadata": {
        "colab": {
          "base_uri": "https://localhost:8080/"
        },
        "id": "b-QI0NZDD2iu",
        "outputId": "4b0353a5-3ec2-4172-f8e1-a0484aa891db"
      },
      "execution_count": 318,
      "outputs": [
        {
          "output_type": "stream",
          "name": "stdout",
          "text": [
            "Epoch 1/25\n",
            "33/33 [==============================] - 3s 4ms/step - loss: 0.1635 - accuracy: 0.0000e+00\n",
            "Epoch 2/25\n",
            "33/33 [==============================] - 0s 4ms/step - loss: 0.0302 - accuracy: 0.0303\n",
            "Epoch 3/25\n",
            "33/33 [==============================] - 0s 4ms/step - loss: 0.0281 - accuracy: 0.0303\n",
            "Epoch 4/25\n",
            "33/33 [==============================] - 0s 4ms/step - loss: 0.0321 - accuracy: 0.0303\n",
            "Epoch 5/25\n",
            "33/33 [==============================] - 0s 4ms/step - loss: 0.0272 - accuracy: 0.0303\n",
            "Epoch 6/25\n",
            "33/33 [==============================] - 0s 4ms/step - loss: 0.0250 - accuracy: 0.0303\n",
            "Epoch 7/25\n",
            "33/33 [==============================] - 0s 4ms/step - loss: 0.0253 - accuracy: 0.0303\n",
            "Epoch 8/25\n",
            "33/33 [==============================] - 0s 4ms/step - loss: 0.0275 - accuracy: 0.0303\n",
            "Epoch 9/25\n",
            "33/33 [==============================] - 0s 4ms/step - loss: 0.0241 - accuracy: 0.0303\n",
            "Epoch 10/25\n",
            "33/33 [==============================] - 0s 6ms/step - loss: 0.0240 - accuracy: 0.0303\n",
            "Epoch 11/25\n",
            "33/33 [==============================] - 0s 5ms/step - loss: 0.0328 - accuracy: 0.0303\n",
            "Epoch 12/25\n",
            "33/33 [==============================] - 0s 5ms/step - loss: 0.0248 - accuracy: 0.0303\n",
            "Epoch 13/25\n",
            "33/33 [==============================] - 0s 5ms/step - loss: 0.0243 - accuracy: 0.0303\n",
            "Epoch 14/25\n",
            "33/33 [==============================] - 0s 7ms/step - loss: 0.0269 - accuracy: 0.0303\n",
            "Epoch 15/25\n",
            "33/33 [==============================] - 0s 6ms/step - loss: 0.0237 - accuracy: 0.0303\n",
            "Epoch 16/25\n",
            "33/33 [==============================] - 0s 6ms/step - loss: 0.0247 - accuracy: 0.0303\n",
            "Epoch 17/25\n",
            "33/33 [==============================] - 0s 6ms/step - loss: 0.0215 - accuracy: 0.0303\n",
            "Epoch 18/25\n",
            "33/33 [==============================] - 0s 6ms/step - loss: 0.0212 - accuracy: 0.0303\n",
            "Epoch 19/25\n",
            "33/33 [==============================] - 0s 6ms/step - loss: 0.0230 - accuracy: 0.0303\n",
            "Epoch 20/25\n",
            "33/33 [==============================] - 0s 6ms/step - loss: 0.0209 - accuracy: 0.0303\n",
            "Epoch 21/25\n",
            "33/33 [==============================] - 0s 8ms/step - loss: 0.0196 - accuracy: 0.0303\n",
            "Epoch 22/25\n",
            "33/33 [==============================] - 0s 6ms/step - loss: 0.0222 - accuracy: 0.0303\n",
            "Epoch 23/25\n",
            "33/33 [==============================] - 0s 6ms/step - loss: 0.0194 - accuracy: 0.0303\n",
            "Epoch 24/25\n",
            "33/33 [==============================] - 0s 7ms/step - loss: 0.0191 - accuracy: 0.0303\n",
            "Epoch 25/25\n",
            "33/33 [==============================] - 0s 5ms/step - loss: 0.0182 - accuracy: 0.0303\n"
          ]
        },
        {
          "output_type": "execute_result",
          "data": {
            "text/plain": [
              "<keras.callbacks.History at 0x7f1f6a563a10>"
            ]
          },
          "metadata": {},
          "execution_count": 318
        }
      ]
    },
    {
      "cell_type": "code",
      "source": [
        "y_pred1 = model.predict(X_test)"
      ],
      "metadata": {
        "colab": {
          "base_uri": "https://localhost:8080/"
        },
        "id": "skkDKyuSD4qo",
        "outputId": "678deb8e-ca04-4f55-a4c0-a61aa3e5006e"
      },
      "execution_count": 319,
      "outputs": [
        {
          "output_type": "stream",
          "name": "stdout",
          "text": [
            "2/2 [==============================] - 1s 7ms/step\n"
          ]
        }
      ]
    },
    {
      "cell_type": "code",
      "source": [
        "y_pred1 = scaler.inverse_transform(y_pred1)\n",
        "y_test1 = np.array(y_test)\n",
        "y_test1 = y_test1.reshape(-1, 1)\n",
        "y_test1 = scaler.inverse_transform(y_test1)"
      ],
      "metadata": {
        "id": "ne4FtdgvD6nO"
      },
      "execution_count": 320,
      "outputs": []
    },
    {
      "cell_type": "code",
      "source": [
        "plt.figure(figsize=(14,5))\n",
        "plt.plot(y_test1, label = 'Real')\n",
        "plt.plot(y_pred1, label = 'Predicted')\n",
        "plt.ylabel('passengers')\n",
        "plt.legend()\n",
        "plt.show()"
      ],
      "metadata": {
        "colab": {
          "base_uri": "https://localhost:8080/",
          "height": 320
        },
        "id": "jNv6yjcbD8Y2",
        "outputId": "3e16481b-4583-4ed6-ece4-0f8475a2f71b"
      },
      "execution_count": 321,
      "outputs": [
        {
          "output_type": "display_data",
          "data": {
            "text/plain": [
              "<Figure size 1008x360 with 1 Axes>"
            ],
            "image/png": "[encoded data removed]"
          },
          "metadata": {
            "needs_background": "light"
          }
        }
      ]
    },
    {
      "cell_type": "code",
      "source": [
        ""
      ],
      "metadata": {
        "id": "B3TwApU1GqXQ"
      },
      "execution_count": 321,
      "outputs": []
    },
    {
      "cell_type": "code",
      "source": [
        "look_back = 10\n",
        "model = Sequential()\n",
        "\n",
        "model.add(LSTM(512,return_sequences=False,input_shape=( look_back,1)))\n",
        "\n",
        "model.add(Dense(1))\n",
        "\n",
        "model.compile(loss=\"mse\", optimizer=\"adam\", metrics=['accuracy'])"
      ],
      "metadata": {
        "id": "MMnVOGV_EH8T"
      },
      "execution_count": 322,
      "outputs": []
    },
    {
      "cell_type": "code",
      "source": [
        "model.summary()"
      ],
      "metadata": {
        "colab": {
          "base_uri": "https://localhost:8080/"
        },
        "id": "ULu2kgUhENxI",
        "outputId": "7eca0f17-7b48-4d2c-b0ea-ee7e339fb621"
      },
      "execution_count": 323,
      "outputs": [
        {
          "output_type": "stream",
          "name": "stdout",
          "text": [
            "Model: \"sequential_34\"\n",
            "_________________________________________________________________\n",
            " Layer (type)                Output Shape              Param #   \n",
            "=================================================================\n",
            " lstm_44 (LSTM)              (None, 512)               1052672   \n",
            "                                                                 \n",
            " dense_29 (Dense)            (None, 1)                 513       \n",
            "                                                                 \n",
            "=================================================================\n",
            "Total params: 1,053,185\n",
            "Trainable params: 1,053,185\n",
            "Non-trainable params: 0\n",
            "_________________________________________________________________\n"
          ]
        }
      ]
    },
    {
      "cell_type": "code",
      "source": [
        "model.fit(X_train, y_train, epochs=25, batch_size=1)"
      ],
      "metadata": {
        "colab": {
          "base_uri": "https://localhost:8080/"
        },
        "id": "AmuwgFJUEQm5",
        "outputId": "4f531129-11a7-42df-b766-adcbb7736240"
      },
      "execution_count": 324,
      "outputs": [
        {
          "output_type": "stream",
          "name": "stdout",
          "text": [
            "Epoch 1/25\n",
            "33/33 [==============================] - 3s 30ms/step - loss: 0.0568 - accuracy: 0.0303\n",
            "Epoch 2/25\n",
            "33/33 [==============================] - 2s 50ms/step - loss: 0.0369 - accuracy: 0.0303\n",
            "Epoch 3/25\n",
            "33/33 [==============================] - 2s 53ms/step - loss: 0.0329 - accuracy: 0.0303\n",
            "Epoch 4/25\n",
            "33/33 [==============================] - 2s 52ms/step - loss: 0.0339 - accuracy: 0.0303\n",
            "Epoch 5/25\n",
            "33/33 [==============================] - 2s 51ms/step - loss: 0.0303 - accuracy: 0.0303\n",
            "Epoch 6/25\n",
            "33/33 [==============================] - 2s 52ms/step - loss: 0.0219 - accuracy: 0.0303\n",
            "Epoch 7/25\n",
            "33/33 [==============================] - 2s 50ms/step - loss: 0.0196 - accuracy: 0.0303\n",
            "Epoch 8/25\n",
            "33/33 [==============================] - 2s 54ms/step - loss: 0.0237 - accuracy: 0.0303\n",
            "Epoch 9/25\n",
            "33/33 [==============================] - 2s 49ms/step - loss: 0.0223 - accuracy: 0.0303\n",
            "Epoch 10/25\n",
            "33/33 [==============================] - 2s 49ms/step - loss: 0.0167 - accuracy: 0.0303\n",
            "Epoch 11/25\n",
            "33/33 [==============================] - 2s 52ms/step - loss: 0.0247 - accuracy: 0.0303\n",
            "Epoch 12/25\n",
            "33/33 [==============================] - 2s 57ms/step - loss: 0.0169 - accuracy: 0.0303\n",
            "Epoch 13/25\n",
            "33/33 [==============================] - 2s 57ms/step - loss: 0.0150 - accuracy: 0.0303\n",
            "Epoch 14/25\n",
            "33/33 [==============================] - 2s 55ms/step - loss: 0.0122 - accuracy: 0.0303\n",
            "Epoch 15/25\n",
            "33/33 [==============================] - 2s 60ms/step - loss: 0.0155 - accuracy: 0.0303\n",
            "Epoch 16/25\n",
            "33/33 [==============================] - 2s 49ms/step - loss: 0.0169 - accuracy: 0.0303\n",
            "Epoch 17/25\n",
            "33/33 [==============================] - 2s 52ms/step - loss: 0.0120 - accuracy: 0.0303\n",
            "Epoch 18/25\n",
            "33/33 [==============================] - 2s 55ms/step - loss: 0.0108 - accuracy: 0.0303\n",
            "Epoch 19/25\n",
            "33/33 [==============================] - 2s 50ms/step - loss: 0.0120 - accuracy: 0.0303\n",
            "Epoch 20/25\n",
            "33/33 [==============================] - 2s 51ms/step - loss: 0.0104 - accuracy: 0.0303\n",
            "Epoch 21/25\n",
            "33/33 [==============================] - 1s 39ms/step - loss: 0.0106 - accuracy: 0.0303\n",
            "Epoch 22/25\n",
            "33/33 [==============================] - 1s 30ms/step - loss: 0.0096 - accuracy: 0.0303\n",
            "Epoch 23/25\n",
            "33/33 [==============================] - 1s 29ms/step - loss: 0.0081 - accuracy: 0.0303\n",
            "Epoch 24/25\n",
            "33/33 [==============================] - 1s 29ms/step - loss: 0.0083 - accuracy: 0.0303\n",
            "Epoch 25/25\n",
            "33/33 [==============================] - 1s 29ms/step - loss: 0.0082 - accuracy: 0.0303\n"
          ]
        },
        {
          "output_type": "execute_result",
          "data": {
            "text/plain": [
              "<keras.callbacks.History at 0x7f1f687c6590>"
            ]
          },
          "metadata": {},
          "execution_count": 324
        }
      ]
    },
    {
      "cell_type": "code",
      "source": [
        "y_pred2 = model.predict(X_test)"
      ],
      "metadata": {
        "colab": {
          "base_uri": "https://localhost:8080/"
        },
        "id": "LtexE3h4ESJd",
        "outputId": "b461490b-930f-4216-8012-d7e0e6bd5b76"
      },
      "execution_count": 325,
      "outputs": [
        {
          "output_type": "stream",
          "name": "stdout",
          "text": [
            "2/2 [==============================] - 0s 10ms/step\n"
          ]
        }
      ]
    },
    {
      "cell_type": "code",
      "source": [
        "y_pred2 = scaler.inverse_transform(y_pred2)\n",
        "y_test2 = np.array(y_test)\n",
        "y_test2 = y_test2.reshape(-1, 1)\n",
        "y_test2 = scaler.inverse_transform(y_test2)"
      ],
      "metadata": {
        "id": "Zc_aA5i6EUOR"
      },
      "execution_count": 326,
      "outputs": []
    },
    {
      "cell_type": "code",
      "source": [
        "plt.figure(figsize=(14,5))\n",
        "plt.plot(y_test2, label = 'Real')\n",
        "plt.plot(y_pred2, label = 'Predicted')\n",
        "plt.ylabel('passengers')\n",
        "plt.legend()\n",
        "plt.show()"
      ],
      "metadata": {
        "colab": {
          "base_uri": "https://localhost:8080/",
          "height": 320
        },
        "id": "ANKK0dhTEV5V",
        "outputId": "97bbb171-b29e-4960-9ffa-2b2d875da22c"
      },
      "execution_count": 327,
      "outputs": [
        {
          "output_type": "display_data",
          "data": {
            "text/plain": [
              "<Figure size 1008x360 with 1 Axes>"
            ],
            "image/png": "[encoded data removed]"
          },
          "metadata": {
            "needs_background": "light"
          }
        }
      ]
    },
    {
      "cell_type": "markdown",
      "source": [
        "При увеличение количества скрытых состояний с 64 (loss: 0.0182 - accuracy: 0.0303) на 512 (loss: 0.0082 - accuracy: 0.0303) модель показывает результат значительно лучше"
      ],
      "metadata": {
        "id": "QLkJ_dy4H-MW"
      }
    },
    {
      "cell_type": "markdown",
      "source": [
        "Добавим второй слой"
      ],
      "metadata": {
        "id": "pk3Sem3eIzL8"
      }
    },
    {
      "cell_type": "code",
      "source": [
        "look_back = 10\n",
        "model = Sequential()\n",
        "\n",
        "model.add(LSTM(512,return_sequences=True,input_shape=( look_back,1)))\n",
        "model.add(LSTM(256,return_sequences=False,input_shape=( look_back,1)))\n",
        "model.add(Dense(1))\n",
        "\n",
        "model.compile(loss=\"mse\", optimizer=\"adam\", metrics=['accuracy'])"
      ],
      "metadata": {
        "id": "tIOStnZwIq_t"
      },
      "execution_count": 328,
      "outputs": []
    },
    {
      "cell_type": "code",
      "source": [
        "model.summary()"
      ],
      "metadata": {
        "colab": {
          "base_uri": "https://localhost:8080/"
        },
        "id": "LwFPiCThJDTc",
        "outputId": "24c7f9bd-3e9e-49cc-b4aa-fe380360515a"
      },
      "execution_count": 329,
      "outputs": [
        {
          "output_type": "stream",
          "name": "stdout",
          "text": [
            "Model: \"sequential_35\"\n",
            "_________________________________________________________________\n",
            " Layer (type)                Output Shape              Param #   \n",
            "=================================================================\n",
            " lstm_45 (LSTM)              (None, 10, 512)           1052672   \n",
            "                                                                 \n",
            " lstm_46 (LSTM)              (None, 256)               787456    \n",
            "                                                                 \n",
            " dense_30 (Dense)            (None, 1)                 257       \n",
            "                                                                 \n",
            "=================================================================\n",
            "Total params: 1,840,385\n",
            "Trainable params: 1,840,385\n",
            "Non-trainable params: 0\n",
            "_________________________________________________________________\n"
          ]
        }
      ]
    },
    {
      "cell_type": "code",
      "source": [
        "model.fit(X_train, y_train, epochs=25, batch_size=1)"
      ],
      "metadata": {
        "colab": {
          "base_uri": "https://localhost:8080/"
        },
        "id": "qZpISM9uJFm7",
        "outputId": "21dfa98c-ce40-44b8-f35e-e9fbf8447215"
      },
      "execution_count": 330,
      "outputs": [
        {
          "output_type": "stream",
          "name": "stdout",
          "text": [
            "Epoch 1/25\n",
            "33/33 [==============================] - 4s 47ms/step - loss: 0.0909 - accuracy: 0.0000e+00\n",
            "Epoch 2/25\n",
            "33/33 [==============================] - 2s 47ms/step - loss: 0.0376 - accuracy: 0.0303\n",
            "Epoch 3/25\n",
            "33/33 [==============================] - 2s 49ms/step - loss: 0.0316 - accuracy: 0.0303\n",
            "Epoch 4/25\n",
            "33/33 [==============================] - 2s 48ms/step - loss: 0.0360 - accuracy: 0.0303\n",
            "Epoch 5/25\n",
            "33/33 [==============================] - 2s 47ms/step - loss: 0.0331 - accuracy: 0.0303\n",
            "Epoch 6/25\n",
            "33/33 [==============================] - 2s 48ms/step - loss: 0.0223 - accuracy: 0.0303\n",
            "Epoch 7/25\n",
            "33/33 [==============================] - 2s 46ms/step - loss: 0.0205 - accuracy: 0.0303\n",
            "Epoch 8/25\n",
            "33/33 [==============================] - 2s 48ms/step - loss: 0.0235 - accuracy: 0.0303\n",
            "Epoch 9/25\n",
            "33/33 [==============================] - 2s 47ms/step - loss: 0.0241 - accuracy: 0.0303\n",
            "Epoch 10/25\n",
            "33/33 [==============================] - 2s 47ms/step - loss: 0.0168 - accuracy: 0.0303\n",
            "Epoch 11/25\n",
            "33/33 [==============================] - 2s 48ms/step - loss: 0.0222 - accuracy: 0.0303\n",
            "Epoch 12/25\n",
            "33/33 [==============================] - 2s 48ms/step - loss: 0.0159 - accuracy: 0.0303\n",
            "Epoch 13/25\n",
            "33/33 [==============================] - 2s 47ms/step - loss: 0.0113 - accuracy: 0.0303\n",
            "Epoch 14/25\n",
            "33/33 [==============================] - 2s 49ms/step - loss: 0.0092 - accuracy: 0.0303\n",
            "Epoch 15/25\n",
            "33/33 [==============================] - 2s 48ms/step - loss: 0.0124 - accuracy: 0.0303\n",
            "Epoch 16/25\n",
            "33/33 [==============================] - 2s 47ms/step - loss: 0.0148 - accuracy: 0.0303\n",
            "Epoch 17/25\n",
            "33/33 [==============================] - 2s 48ms/step - loss: 0.0111 - accuracy: 0.0303\n",
            "Epoch 18/25\n",
            "33/33 [==============================] - 2s 50ms/step - loss: 0.0084 - accuracy: 0.0303\n",
            "Epoch 19/25\n",
            "33/33 [==============================] - 2s 49ms/step - loss: 0.0100 - accuracy: 0.0303\n",
            "Epoch 20/25\n",
            "33/33 [==============================] - 2s 48ms/step - loss: 0.0081 - accuracy: 0.0303\n",
            "Epoch 21/25\n",
            "33/33 [==============================] - 2s 49ms/step - loss: 0.0083 - accuracy: 0.0303\n",
            "Epoch 22/25\n",
            "33/33 [==============================] - 2s 50ms/step - loss: 0.0126 - accuracy: 0.0303\n",
            "Epoch 23/25\n",
            "33/33 [==============================] - 2s 48ms/step - loss: 0.0086 - accuracy: 0.0303\n",
            "Epoch 24/25\n",
            "33/33 [==============================] - 2s 48ms/step - loss: 0.0071 - accuracy: 0.0303\n",
            "Epoch 25/25\n",
            "33/33 [==============================] - 2s 48ms/step - loss: 0.0085 - accuracy: 0.0303\n"
          ]
        },
        {
          "output_type": "execute_result",
          "data": {
            "text/plain": [
              "<keras.callbacks.History at 0x7f1f67b49510>"
            ]
          },
          "metadata": {},
          "execution_count": 330
        }
      ]
    },
    {
      "cell_type": "code",
      "source": [
        "y_pred3 = model.predict(X_test)"
      ],
      "metadata": {
        "colab": {
          "base_uri": "https://localhost:8080/"
        },
        "id": "3LjbCYUeJHgq",
        "outputId": "1a6811ee-509d-4b39-d80c-61da91341377"
      },
      "execution_count": 331,
      "outputs": [
        {
          "output_type": "stream",
          "name": "stdout",
          "text": [
            "2/2 [==============================] - 1s 13ms/step\n"
          ]
        }
      ]
    },
    {
      "cell_type": "code",
      "source": [
        "y_pred3 = scaler.inverse_transform(y_pred3)\n",
        "y_test3 = np.array(y_test)\n",
        "y_test3 = y_test3.reshape(-1, 1)\n",
        "y_test3 = scaler.inverse_transform(y_test3)"
      ],
      "metadata": {
        "id": "tx6t_Vp7JKxU"
      },
      "execution_count": 332,
      "outputs": []
    },
    {
      "cell_type": "code",
      "source": [
        "plt.figure(figsize=(14,5))\n",
        "plt.plot(y_test3, label = 'Real')\n",
        "plt.plot(y_pred3, label = 'Predicted')\n",
        "plt.ylabel('passengers')\n",
        "plt.legend()\n",
        "plt.show()"
      ],
      "metadata": {
        "colab": {
          "base_uri": "https://localhost:8080/",
          "height": 320
        },
        "id": "3tSLZJpqJP7T",
        "outputId": "23ce61cb-e632-474e-abed-14baafdd0fac"
      },
      "execution_count": 333,
      "outputs": [
        {
          "output_type": "display_data",
          "data": {
            "text/plain": [
              "<Figure size 1008x360 with 1 Axes>"
            ],
            "image/png": "[encoded data removed]"
          },
          "metadata": {
            "needs_background": "light"
          }
        }
      ]
    },
    {
      "cell_type": "markdown",
      "source": [
        "Добавление слоя улучшило предсказание не значительно loss: 0.0085 - accuracy: 0.0303"
      ],
      "metadata": {
        "id": "66wxniXWKcIQ"
      }
    },
    {
      "cell_type": "markdown",
      "source": [
        "Попробуем добавить еще слои и увеличить количество эпох"
      ],
      "metadata": {
        "id": "IaZNxO1vK_De"
      }
    },
    {
      "cell_type": "code",
      "source": [
        "look_back = 10\n",
        "model = Sequential()\n",
        "\n",
        "model.add(LSTM(512,return_sequences=True,input_shape=( look_back,1)))\n",
        "model.add(LSTM(256,return_sequences=True,input_shape=( look_back,1)))\n",
        "model.add(LSTM(128,return_sequences=False,input_shape=( look_back,1)))\n",
        "model.add(Dense(1))\n",
        "\n",
        "model.compile(loss=\"mse\", optimizer=\"adam\", metrics=['accuracy'])"
      ],
      "metadata": {
        "id": "XT3e5rBJLH8N"
      },
      "execution_count": 334,
      "outputs": []
    },
    {
      "cell_type": "code",
      "source": [
        "model.fit(X_train, y_train, epochs=50, batch_size=1)"
      ],
      "metadata": {
        "colab": {
          "base_uri": "https://localhost:8080/"
        },
        "id": "twhJDz9_KhIv",
        "outputId": "5b92a608-5dd8-43a2-fb14-5bdcca307503"
      },
      "execution_count": 335,
      "outputs": [
        {
          "output_type": "stream",
          "name": "stdout",
          "text": [
            "Epoch 1/50\n",
            "33/33 [==============================] - 7s 57ms/step - loss: 0.0704 - accuracy: 0.0000e+00\n",
            "Epoch 2/50\n",
            "33/33 [==============================] - 2s 56ms/step - loss: 0.0359 - accuracy: 0.0303\n",
            "Epoch 3/50\n",
            "33/33 [==============================] - 2s 56ms/step - loss: 0.0325 - accuracy: 0.0303\n",
            "Epoch 4/50\n",
            "33/33 [==============================] - 2s 56ms/step - loss: 0.0414 - accuracy: 0.0000e+00\n",
            "Epoch 5/50\n",
            "33/33 [==============================] - 2s 55ms/step - loss: 0.0362 - accuracy: 0.0303\n",
            "Epoch 6/50\n",
            "33/33 [==============================] - 2s 57ms/step - loss: 0.0311 - accuracy: 0.0303\n",
            "Epoch 7/50\n",
            "33/33 [==============================] - 2s 57ms/step - loss: 0.0270 - accuracy: 0.0303\n",
            "Epoch 8/50\n",
            "33/33 [==============================] - 2s 57ms/step - loss: 0.0317 - accuracy: 0.0303\n",
            "Epoch 9/50\n",
            "33/33 [==============================] - 2s 56ms/step - loss: 0.0314 - accuracy: 0.0000e+00\n",
            "Epoch 10/50\n",
            "33/33 [==============================] - 2s 57ms/step - loss: 0.0240 - accuracy: 0.0303\n",
            "Epoch 11/50\n",
            "33/33 [==============================] - 2s 56ms/step - loss: 0.0361 - accuracy: 0.0303\n",
            "Epoch 12/50\n",
            "33/33 [==============================] - 2s 56ms/step - loss: 0.0412 - accuracy: 0.0303\n",
            "Epoch 13/50\n",
            "33/33 [==============================] - 2s 55ms/step - loss: 0.0295 - accuracy: 0.0303\n",
            "Epoch 14/50\n",
            "33/33 [==============================] - 2s 55ms/step - loss: 0.0301 - accuracy: 0.0303\n",
            "Epoch 15/50\n",
            "33/33 [==============================] - 2s 56ms/step - loss: 0.0280 - accuracy: 0.0303\n",
            "Epoch 16/50\n",
            "33/33 [==============================] - 2s 57ms/step - loss: 0.0303 - accuracy: 0.0303\n",
            "Epoch 17/50\n",
            "33/33 [==============================] - 2s 56ms/step - loss: 0.0235 - accuracy: 0.0303\n",
            "Epoch 18/50\n",
            "33/33 [==============================] - 2s 55ms/step - loss: 0.0242 - accuracy: 0.0303\n",
            "Epoch 19/50\n",
            "33/33 [==============================] - 2s 56ms/step - loss: 0.0276 - accuracy: 0.0303\n",
            "Epoch 20/50\n",
            "33/33 [==============================] - 2s 55ms/step - loss: 0.0261 - accuracy: 0.0303\n",
            "Epoch 21/50\n",
            "33/33 [==============================] - 2s 57ms/step - loss: 0.0245 - accuracy: 0.0303\n",
            "Epoch 22/50\n",
            "33/33 [==============================] - 2s 56ms/step - loss: 0.0264 - accuracy: 0.0303\n",
            "Epoch 23/50\n",
            "33/33 [==============================] - 2s 73ms/step - loss: 0.0224 - accuracy: 0.0303\n",
            "Epoch 24/50\n",
            "33/33 [==============================] - 2s 57ms/step - loss: 0.0221 - accuracy: 0.0303\n",
            "Epoch 25/50\n",
            "33/33 [==============================] - 2s 56ms/step - loss: 0.0207 - accuracy: 0.0303\n",
            "Epoch 26/50\n",
            "33/33 [==============================] - 2s 56ms/step - loss: 0.0216 - accuracy: 0.0303\n",
            "Epoch 27/50\n",
            "33/33 [==============================] - 2s 56ms/step - loss: 0.0185 - accuracy: 0.0303\n",
            "Epoch 28/50\n",
            "33/33 [==============================] - 2s 56ms/step - loss: 0.0147 - accuracy: 0.0303\n",
            "Epoch 29/50\n",
            "33/33 [==============================] - 2s 56ms/step - loss: 0.0161 - accuracy: 0.0303\n",
            "Epoch 30/50\n",
            "33/33 [==============================] - 2s 56ms/step - loss: 0.0166 - accuracy: 0.0303\n",
            "Epoch 31/50\n",
            "33/33 [==============================] - 2s 55ms/step - loss: 0.0114 - accuracy: 0.0303\n",
            "Epoch 32/50\n",
            "33/33 [==============================] - 2s 56ms/step - loss: 0.0189 - accuracy: 0.0303\n",
            "Epoch 33/50\n",
            "33/33 [==============================] - 2s 56ms/step - loss: 0.0207 - accuracy: 0.0303\n",
            "Epoch 34/50\n",
            "33/33 [==============================] - 2s 56ms/step - loss: 0.0108 - accuracy: 0.0303\n",
            "Epoch 35/50\n",
            "33/33 [==============================] - 2s 57ms/step - loss: 0.0107 - accuracy: 0.0303\n",
            "Epoch 36/50\n",
            "33/33 [==============================] - 2s 56ms/step - loss: 0.0089 - accuracy: 0.0303\n",
            "Epoch 37/50\n",
            "33/33 [==============================] - 2s 55ms/step - loss: 0.0073 - accuracy: 0.0303\n",
            "Epoch 38/50\n",
            "33/33 [==============================] - 2s 57ms/step - loss: 0.0103 - accuracy: 0.0303\n",
            "Epoch 39/50\n",
            "33/33 [==============================] - 2s 56ms/step - loss: 0.0089 - accuracy: 0.0303\n",
            "Epoch 40/50\n",
            "33/33 [==============================] - 2s 56ms/step - loss: 0.0124 - accuracy: 0.0303\n",
            "Epoch 41/50\n",
            "33/33 [==============================] - 2s 56ms/step - loss: 0.0101 - accuracy: 0.0303\n",
            "Epoch 42/50\n",
            "33/33 [==============================] - 2s 57ms/step - loss: 0.0082 - accuracy: 0.0303\n",
            "Epoch 43/50\n",
            "33/33 [==============================] - 2s 57ms/step - loss: 0.0079 - accuracy: 0.0303\n",
            "Epoch 44/50\n",
            "33/33 [==============================] - 2s 56ms/step - loss: 0.0065 - accuracy: 0.0303\n",
            "Epoch 45/50\n",
            "33/33 [==============================] - 2s 57ms/step - loss: 0.0059 - accuracy: 0.0303\n",
            "Epoch 46/50\n",
            "33/33 [==============================] - 2s 57ms/step - loss: 0.0075 - accuracy: 0.0303\n",
            "Epoch 47/50\n",
            "33/33 [==============================] - 2s 56ms/step - loss: 0.0092 - accuracy: 0.0303\n",
            "Epoch 48/50\n",
            "33/33 [==============================] - 2s 57ms/step - loss: 0.0073 - accuracy: 0.0303\n",
            "Epoch 49/50\n",
            "33/33 [==============================] - 2s 57ms/step - loss: 0.0065 - accuracy: 0.0303\n",
            "Epoch 50/50\n",
            "33/33 [==============================] - 2s 56ms/step - loss: 0.0080 - accuracy: 0.0303\n"
          ]
        },
        {
          "output_type": "execute_result",
          "data": {
            "text/plain": [
              "<keras.callbacks.History at 0x7f1f65803110>"
            ]
          },
          "metadata": {},
          "execution_count": 335
        }
      ]
    },
    {
      "cell_type": "code",
      "source": [
        "y_pred4 = model.predict(X_test)"
      ],
      "metadata": {
        "colab": {
          "base_uri": "https://localhost:8080/"
        },
        "id": "5fqc_8iLLVP3",
        "outputId": "b86668e6-fe02-4863-da9d-e95f4145cae9"
      },
      "execution_count": 336,
      "outputs": [
        {
          "output_type": "stream",
          "name": "stdout",
          "text": [
            "2/2 [==============================] - 1s 14ms/step\n"
          ]
        }
      ]
    },
    {
      "cell_type": "code",
      "source": [
        "y_pred4 = scaler.inverse_transform(y_pred4)\n",
        "y_test4 = np.array(y_test)\n",
        "y_test4 = y_test4.reshape(-1, 1)\n",
        "y_test4 = scaler.inverse_transform(y_test4)"
      ],
      "metadata": {
        "id": "lY46-U4JLau6"
      },
      "execution_count": 337,
      "outputs": []
    },
    {
      "cell_type": "code",
      "source": [
        "plt.figure(figsize=(14,5))\n",
        "plt.plot(y_test4, label = 'Real')\n",
        "plt.plot(y_pred4, label = 'Predicted')\n",
        "plt.ylabel('passengers')\n",
        "plt.legend()\n",
        "plt.show()"
      ],
      "metadata": {
        "colab": {
          "base_uri": "https://localhost:8080/",
          "height": 320
        },
        "id": "PCoV3NEtLlgU",
        "outputId": "fc03c25a-e4c8-4a80-aaf1-4f28c2257924"
      },
      "execution_count": 338,
      "outputs": [
        {
          "output_type": "display_data",
          "data": {
            "text/plain": [
              "<Figure size 1008x360 with 1 Axes>"
            ],
            "image/png": "[encoded data removed]"
          },
          "metadata": {
            "needs_background": "light"
          }
        }
      ]
    },
    {
      "cell_type": "markdown",
      "source": [
        "Еще не значительное увеличение loss: 0.0080 - accuracy: 0.0303. Нужно принимать решение о дальнейшем улучшении учитывая имеющиеся в наличии мощности"
      ],
      "metadata": {
        "id": "5uNHvZBQQoyK"
      }
    }
  ]
}